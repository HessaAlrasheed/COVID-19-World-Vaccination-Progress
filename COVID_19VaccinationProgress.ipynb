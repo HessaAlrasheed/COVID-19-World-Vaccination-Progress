{
  "cells": [
    {
      "cell_type": "code",
      "execution_count": 1,
      "id": "72b0d093",
      "metadata": {
        "id": "72b0d093"
      },
      "outputs": [],
      "source": [
        "#Useful Imports\n",
        "import numpy as np\n",
        "import pandas as pd\n",
        "import seaborn as sns\n",
        "import matplotlib.pyplot as plt"
      ]
    },
    {
      "cell_type": "code",
      "execution_count": 2,
      "id": "cd75f2c8",
      "metadata": {
        "id": "cd75f2c8"
      },
      "outputs": [],
      "source": [
        "#Reading data from csv file\n",
        "data = pd.read_csv('/content/country_vaccinations1.csv')"
      ]
    },
    {
      "cell_type": "code",
      "execution_count": 3,
      "id": "52b246b6",
      "metadata": {
        "id": "52b246b6",
        "outputId": "4a655dd1-754e-4e37-cfb1-849df949603c",
        "colab": {
          "base_uri": "https://localhost:8080/",
          "height": 400
        }
      },
      "outputs": [
        {
          "output_type": "execute_result",
          "data": {
            "text/html": [
              "<div>\n",
              "<style scoped>\n",
              "    .dataframe tbody tr th:only-of-type {\n",
              "        vertical-align: middle;\n",
              "    }\n",
              "\n",
              "    .dataframe tbody tr th {\n",
              "        vertical-align: top;\n",
              "    }\n",
              "\n",
              "    .dataframe thead th {\n",
              "        text-align: right;\n",
              "    }\n",
              "</style>\n",
              "<table border=\"1\" class=\"dataframe\">\n",
              "  <thead>\n",
              "    <tr style=\"text-align: right;\">\n",
              "      <th></th>\n",
              "      <th>country</th>\n",
              "      <th>iso_code</th>\n",
              "      <th>date</th>\n",
              "      <th>total_vaccinations</th>\n",
              "      <th>people_vaccinated</th>\n",
              "      <th>people_fully_vaccinated</th>\n",
              "      <th>daily_vaccinations_raw</th>\n",
              "      <th>daily_vaccinations</th>\n",
              "      <th>total_vaccinations_per_hundred</th>\n",
              "      <th>people_vaccinated_per_hundred</th>\n",
              "      <th>people_fully_vaccinated_per_hundred</th>\n",
              "      <th>daily_vaccinations_per_million</th>\n",
              "      <th>vaccines</th>\n",
              "      <th>source_name</th>\n",
              "      <th>source_website</th>\n",
              "    </tr>\n",
              "  </thead>\n",
              "  <tbody>\n",
              "    <tr>\n",
              "      <th>0</th>\n",
              "      <td>Afghanistan</td>\n",
              "      <td>AFG</td>\n",
              "      <td>22/02/2021</td>\n",
              "      <td>0.0</td>\n",
              "      <td>0.0</td>\n",
              "      <td>NaN</td>\n",
              "      <td>NaN</td>\n",
              "      <td>NaN</td>\n",
              "      <td>0.0</td>\n",
              "      <td>0.0</td>\n",
              "      <td>NaN</td>\n",
              "      <td>NaN</td>\n",
              "      <td>Johnson&amp;Johnson, Oxford/AstraZeneca, Pfizer/Bi...</td>\n",
              "      <td>World Health Organization</td>\n",
              "      <td>https://reliefweb.int/sites/reliefweb.int/file...</td>\n",
              "    </tr>\n",
              "    <tr>\n",
              "      <th>1</th>\n",
              "      <td>Afghanistan</td>\n",
              "      <td>AFG</td>\n",
              "      <td>23/02/2021</td>\n",
              "      <td>NaN</td>\n",
              "      <td>NaN</td>\n",
              "      <td>NaN</td>\n",
              "      <td>NaN</td>\n",
              "      <td>1367.0</td>\n",
              "      <td>NaN</td>\n",
              "      <td>NaN</td>\n",
              "      <td>NaN</td>\n",
              "      <td>34.0</td>\n",
              "      <td>Johnson&amp;Johnson, Oxford/AstraZeneca, Pfizer/Bi...</td>\n",
              "      <td>World Health Organization</td>\n",
              "      <td>https://reliefweb.int/sites/reliefweb.int/file...</td>\n",
              "    </tr>\n",
              "    <tr>\n",
              "      <th>2</th>\n",
              "      <td>Afghanistan</td>\n",
              "      <td>AFG</td>\n",
              "      <td>24/02/2021</td>\n",
              "      <td>NaN</td>\n",
              "      <td>NaN</td>\n",
              "      <td>NaN</td>\n",
              "      <td>NaN</td>\n",
              "      <td>1367.0</td>\n",
              "      <td>NaN</td>\n",
              "      <td>NaN</td>\n",
              "      <td>NaN</td>\n",
              "      <td>34.0</td>\n",
              "      <td>Johnson&amp;Johnson, Oxford/AstraZeneca, Pfizer/Bi...</td>\n",
              "      <td>World Health Organization</td>\n",
              "      <td>https://reliefweb.int/sites/reliefweb.int/file...</td>\n",
              "    </tr>\n",
              "    <tr>\n",
              "      <th>3</th>\n",
              "      <td>Afghanistan</td>\n",
              "      <td>AFG</td>\n",
              "      <td>25/02/2021</td>\n",
              "      <td>NaN</td>\n",
              "      <td>NaN</td>\n",
              "      <td>NaN</td>\n",
              "      <td>NaN</td>\n",
              "      <td>1367.0</td>\n",
              "      <td>NaN</td>\n",
              "      <td>NaN</td>\n",
              "      <td>NaN</td>\n",
              "      <td>34.0</td>\n",
              "      <td>Johnson&amp;Johnson, Oxford/AstraZeneca, Pfizer/Bi...</td>\n",
              "      <td>World Health Organization</td>\n",
              "      <td>https://reliefweb.int/sites/reliefweb.int/file...</td>\n",
              "    </tr>\n",
              "    <tr>\n",
              "      <th>4</th>\n",
              "      <td>Afghanistan</td>\n",
              "      <td>AFG</td>\n",
              "      <td>26/02/2021</td>\n",
              "      <td>NaN</td>\n",
              "      <td>NaN</td>\n",
              "      <td>NaN</td>\n",
              "      <td>NaN</td>\n",
              "      <td>1367.0</td>\n",
              "      <td>NaN</td>\n",
              "      <td>NaN</td>\n",
              "      <td>NaN</td>\n",
              "      <td>34.0</td>\n",
              "      <td>Johnson&amp;Johnson, Oxford/AstraZeneca, Pfizer/Bi...</td>\n",
              "      <td>World Health Organization</td>\n",
              "      <td>https://reliefweb.int/sites/reliefweb.int/file...</td>\n",
              "    </tr>\n",
              "  </tbody>\n",
              "</table>\n",
              "</div>"
            ],
            "text/plain": [
              "       country  ...                                     source_website\n",
              "0  Afghanistan  ...  https://reliefweb.int/sites/reliefweb.int/file...\n",
              "1  Afghanistan  ...  https://reliefweb.int/sites/reliefweb.int/file...\n",
              "2  Afghanistan  ...  https://reliefweb.int/sites/reliefweb.int/file...\n",
              "3  Afghanistan  ...  https://reliefweb.int/sites/reliefweb.int/file...\n",
              "4  Afghanistan  ...  https://reliefweb.int/sites/reliefweb.int/file...\n",
              "\n",
              "[5 rows x 15 columns]"
            ]
          },
          "metadata": {},
          "execution_count": 3
        }
      ],
      "source": [
        "data.head()"
      ]
    },
    {
      "cell_type": "code",
      "execution_count": 4,
      "id": "35e9cfb6",
      "metadata": {
        "id": "35e9cfb6",
        "outputId": "affc39bf-f84a-4995-8ad8-d63582d1c221",
        "colab": {
          "base_uri": "https://localhost:8080/"
        }
      },
      "outputs": [
        {
          "output_type": "execute_result",
          "data": {
            "text/plain": [
              "(61612, 15)"
            ]
          },
          "metadata": {},
          "execution_count": 4
        }
      ],
      "source": [
        "#Find the shape of data\n",
        "data.shape"
      ]
    },
    {
      "cell_type": "markdown",
      "id": "4aa78863",
      "metadata": {
        "id": "4aa78863"
      },
      "source": [
        "# Data Preprocessing\n",
        "\n"
      ]
    },
    {
      "cell_type": "code",
      "execution_count": 5,
      "id": "e499ea7e",
      "metadata": {
        "id": "e499ea7e"
      },
      "outputs": [],
      "source": [
        "#Delete unnecessary columns\n",
        "data.drop(['daily_vaccinations_raw','total_vaccinations_per_hundred','people_vaccinated_per_hundred','people_fully_vaccinated_per_hundred','daily_vaccinations_per_million','vaccines','source_name', 'source_website'], axis='columns', inplace=True)"
      ]
    },
    {
      "cell_type": "code",
      "execution_count": 6,
      "id": "2bed4273",
      "metadata": {
        "id": "2bed4273",
        "outputId": "b333d256-018d-42fe-ac1a-c4ab4027a11f",
        "colab": {
          "base_uri": "https://localhost:8080/"
        }
      },
      "outputs": [
        {
          "output_type": "execute_result",
          "data": {
            "text/plain": [
              "country                        0\n",
              "iso_code                       0\n",
              "date                           0\n",
              "total_vaccinations         28488\n",
              "people_vaccinated          30080\n",
              "people_fully_vaccinated    32889\n",
              "daily_vaccinations           340\n",
              "dtype: int64"
            ]
          },
          "metadata": {},
          "execution_count": 6
        }
      ],
      "source": [
        "#Check if there are miss values in the data\n",
        "data.isna().sum()"
      ]
    },
    {
      "cell_type": "code",
      "execution_count": 7,
      "id": "a7cf109c",
      "metadata": {
        "id": "a7cf109c",
        "outputId": "5dfe9090-f1c9-491d-81f5-bc61e2486768",
        "colab": {
          "base_uri": "https://localhost:8080/"
        }
      },
      "outputs": [
        {
          "output_type": "execute_result",
          "data": {
            "text/plain": [
              "country                     object\n",
              "iso_code                    object\n",
              "date                        object\n",
              "total_vaccinations         float64\n",
              "people_vaccinated          float64\n",
              "people_fully_vaccinated    float64\n",
              "daily_vaccinations         float64\n",
              "dtype: object"
            ]
          },
          "metadata": {},
          "execution_count": 7
        }
      ],
      "source": [
        "data.dtypes"
      ]
    },
    {
      "cell_type": "code",
      "execution_count": 8,
      "id": "1c5b1dcc",
      "metadata": {
        "id": "1c5b1dcc"
      },
      "outputs": [],
      "source": [
        "#Delete null value in people_vaccinated & total_vaccinations columns\n",
        "data = data.drop(data[data.daily_vaccinations.isna()].index)"
      ]
    },
    {
      "cell_type": "code",
      "execution_count": 9,
      "id": "11717882",
      "metadata": {
        "id": "11717882",
        "outputId": "c1cd0df7-d682-4a2b-cfec-57ae4d49b16d",
        "colab": {
          "base_uri": "https://localhost:8080/",
          "height": 206
        }
      },
      "outputs": [
        {
          "output_type": "execute_result",
          "data": {
            "text/html": [
              "<div>\n",
              "<style scoped>\n",
              "    .dataframe tbody tr th:only-of-type {\n",
              "        vertical-align: middle;\n",
              "    }\n",
              "\n",
              "    .dataframe tbody tr th {\n",
              "        vertical-align: top;\n",
              "    }\n",
              "\n",
              "    .dataframe thead th {\n",
              "        text-align: right;\n",
              "    }\n",
              "</style>\n",
              "<table border=\"1\" class=\"dataframe\">\n",
              "  <thead>\n",
              "    <tr style=\"text-align: right;\">\n",
              "      <th></th>\n",
              "      <th>country</th>\n",
              "      <th>iso_code</th>\n",
              "      <th>date</th>\n",
              "      <th>total_vaccinations</th>\n",
              "      <th>people_vaccinated</th>\n",
              "      <th>people_fully_vaccinated</th>\n",
              "      <th>daily_vaccinations</th>\n",
              "    </tr>\n",
              "  </thead>\n",
              "  <tbody>\n",
              "    <tr>\n",
              "      <th>1</th>\n",
              "      <td>Afghanistan</td>\n",
              "      <td>AFG</td>\n",
              "      <td>23/02/2021</td>\n",
              "      <td>NaN</td>\n",
              "      <td>NaN</td>\n",
              "      <td>NaN</td>\n",
              "      <td>1367.0</td>\n",
              "    </tr>\n",
              "    <tr>\n",
              "      <th>2</th>\n",
              "      <td>Afghanistan</td>\n",
              "      <td>AFG</td>\n",
              "      <td>24/02/2021</td>\n",
              "      <td>NaN</td>\n",
              "      <td>NaN</td>\n",
              "      <td>NaN</td>\n",
              "      <td>1367.0</td>\n",
              "    </tr>\n",
              "    <tr>\n",
              "      <th>3</th>\n",
              "      <td>Afghanistan</td>\n",
              "      <td>AFG</td>\n",
              "      <td>25/02/2021</td>\n",
              "      <td>NaN</td>\n",
              "      <td>NaN</td>\n",
              "      <td>NaN</td>\n",
              "      <td>1367.0</td>\n",
              "    </tr>\n",
              "    <tr>\n",
              "      <th>4</th>\n",
              "      <td>Afghanistan</td>\n",
              "      <td>AFG</td>\n",
              "      <td>26/02/2021</td>\n",
              "      <td>NaN</td>\n",
              "      <td>NaN</td>\n",
              "      <td>NaN</td>\n",
              "      <td>1367.0</td>\n",
              "    </tr>\n",
              "    <tr>\n",
              "      <th>5</th>\n",
              "      <td>Afghanistan</td>\n",
              "      <td>AFG</td>\n",
              "      <td>27/02/2021</td>\n",
              "      <td>NaN</td>\n",
              "      <td>NaN</td>\n",
              "      <td>NaN</td>\n",
              "      <td>1367.0</td>\n",
              "    </tr>\n",
              "  </tbody>\n",
              "</table>\n",
              "</div>"
            ],
            "text/plain": [
              "       country iso_code  ... people_fully_vaccinated  daily_vaccinations\n",
              "1  Afghanistan      AFG  ...                     NaN              1367.0\n",
              "2  Afghanistan      AFG  ...                     NaN              1367.0\n",
              "3  Afghanistan      AFG  ...                     NaN              1367.0\n",
              "4  Afghanistan      AFG  ...                     NaN              1367.0\n",
              "5  Afghanistan      AFG  ...                     NaN              1367.0\n",
              "\n",
              "[5 rows x 7 columns]"
            ]
          },
          "metadata": {},
          "execution_count": 9
        }
      ],
      "source": [
        "data.head ()"
      ]
    },
    {
      "cell_type": "code",
      "execution_count": 10,
      "id": "a8004385",
      "metadata": {
        "id": "a8004385"
      },
      "outputs": [],
      "source": [
        "#Conver date column datatype to date\n",
        "data['date'] = pd.to_datetime(data['date'], format='%d/%m/%Y')"
      ]
    },
    {
      "cell_type": "code",
      "execution_count": 11,
      "id": "fa8c25c5",
      "metadata": {
        "id": "fa8c25c5",
        "colab": {
          "base_uri": "https://localhost:8080/"
        },
        "outputId": "c0797ef7-0636-4e8d-dd74-395eeeb94ecb"
      },
      "outputs": [
        {
          "output_type": "execute_result",
          "data": {
            "text/plain": [
              "country\n",
              "Afghanistan           5116767.0\n",
              "Albania               2111797.0\n",
              "Algeria              12076870.0\n",
              "Andorra                104534.0\n",
              "Angola                9847459.0\n",
              "                        ...    \n",
              "Wales                 5653821.0\n",
              "Wallis and Futuna       11939.0\n",
              "Yemen                  774953.0\n",
              "Zambia                1109512.0\n",
              "Zimbabwe              6640440.0\n",
              "Name: Total vaccinations in count, Length: 223, dtype: float64"
            ]
          },
          "metadata": {},
          "execution_count": 11
        }
      ],
      "source": [
        "#Find total vaccinations for each country\n",
        "data[\"Total vaccinations in count\"]= data.groupby(\"country\").total_vaccinations.tail(1)\n",
        "#Find the average of vaccinations for each country \n",
        "data.groupby(\"country\")[\"Total vaccinations in count\"].mean()"
      ]
    },
    {
      "cell_type": "code",
      "execution_count": 11,
      "id": "2633b013",
      "metadata": {
        "id": "2633b013"
      },
      "outputs": [],
      "source": [
        ""
      ]
    },
    {
      "cell_type": "code",
      "execution_count": 12,
      "id": "3c3c0d4a",
      "metadata": {
        "id": "3c3c0d4a",
        "outputId": "c187a2d4-8b6e-4a90-9a05-a09e4d204077",
        "colab": {
          "base_uri": "https://localhost:8080/",
          "height": 621
        }
      },
      "outputs": [
        {
          "output_type": "display_data",
          "data": {
            "image/png": "[encoded data removed]",
            "text/plain": [
              "<Figure size 720x720 with 1 Axes>"
            ]
          },
          "metadata": {}
        }
      ],
      "source": [
        "#Find top countries with got vaccinations\n",
        "x= data.groupby(\"country\")[\"Total vaccinations in count\"].mean().sort_values(ascending= False).head(10)\n",
        "sns.set_style(\"whitegrid\")\n",
        "plt.figure(figsize= (10,10))\n",
        "ax=sns.barplot(x=x.values, y=x.index)\n",
        "ax.set_title (\"Top countries got vaccinations\")\n",
        "ax.set_xlabel(\"Total vaccinations(count)\")\n",
        "ax.set_ylabel(\"Country\")\n",
        "plt.show()"
      ]
    },
    {
      "cell_type": "code",
      "execution_count": 13,
      "id": "947b1658",
      "metadata": {
        "id": "947b1658",
        "outputId": "ca4d1da4-b253-4e61-fca2-ffeb8ee75a48",
        "colab": {
          "base_uri": "https://localhost:8080/",
          "height": 350
        }
      },
      "outputs": [
        {
          "output_type": "display_data",
          "data": {
            "image/png": "[encoded data removed]",
            "text/plain": [
              "<Figure size 1080x360 with 1 Axes>"
            ]
          },
          "metadata": {}
        }
      ],
      "source": [
        "#Total vaccinations in Saudi\n",
        "plt.figure(figsize= (15,5))\n",
        "plt.xlabel(\"Date\")\n",
        "plt.ylabel(\"Total Vaccinations\")\n",
        "plt.title(\"Total vaccinations in Saudi Arabia\")\n",
        "sns.lineplot(x= \"date\",y= \"people_vaccinated\",data= data[data[\"country\"]==\"Saudi Arabia\"])\n",
        "plt.show()"
      ]
    },
    {
      "cell_type": "code",
      "execution_count": 14,
      "id": "a8d00459",
      "metadata": {
        "id": "a8d00459",
        "outputId": "032c9424-7054-44b8-d35f-4450a1884ad8",
        "colab": {
          "base_uri": "https://localhost:8080/",
          "height": 350
        }
      },
      "outputs": [
        {
          "output_type": "display_data",
          "data": {
            "image/png": "[encoded data removed]",
            "text/plain": [
              "<Figure size 1080x360 with 1 Axes>"
            ]
          },
          "metadata": {}
        }
      ],
      "source": [
        "#People vaccinated vs people fully vaccinated in Saudi Arabia\n",
        "plt.figure(figsize= (15,5))\n",
        "plt.xlabel(\"Date\")\n",
        "plt.ylabel(\"Total Vaccinations\")\n",
        "plt.title(\"People vaccinated vs people fully vaccinated in Saudi Arabia\")\n",
        "sns.lineplot(x= \"date\",y= \"people_vaccinated\",data= data[data[\"country\"]==\"Saudi Arabia\"])\n",
        "sns.lineplot(x= \"date\",y= \"people_fully_vaccinated\",data= data[data[\"country\"]==\"Saudi Arabia\"])\n",
        "plt.show()"
      ]
    },
    {
      "cell_type": "code",
      "execution_count": 15,
      "id": "687759aa",
      "metadata": {
        "colab": {
          "base_uri": "https://localhost:8080/",
          "height": 424
        },
        "id": "687759aa",
        "outputId": "a18374bf-758b-4e4a-89d1-978d60d213ff"
      },
      "outputs": [
        {
          "output_type": "execute_result",
          "data": {
            "text/html": [
              "<div>\n",
              "<style scoped>\n",
              "    .dataframe tbody tr th:only-of-type {\n",
              "        vertical-align: middle;\n",
              "    }\n",
              "\n",
              "    .dataframe tbody tr th {\n",
              "        vertical-align: top;\n",
              "    }\n",
              "\n",
              "    .dataframe thead th {\n",
              "        text-align: right;\n",
              "    }\n",
              "</style>\n",
              "<table border=\"1\" class=\"dataframe\">\n",
              "  <thead>\n",
              "    <tr style=\"text-align: right;\">\n",
              "      <th></th>\n",
              "      <th>country</th>\n",
              "      <th>date</th>\n",
              "      <th>daily_vaccinations</th>\n",
              "    </tr>\n",
              "  </thead>\n",
              "  <tbody>\n",
              "    <tr>\n",
              "      <th>47930</th>\n",
              "      <td>Saudi Arabia</td>\n",
              "      <td>2021-01-07</td>\n",
              "      <td>13492.0</td>\n",
              "    </tr>\n",
              "    <tr>\n",
              "      <th>47931</th>\n",
              "      <td>Saudi Arabia</td>\n",
              "      <td>2021-01-08</td>\n",
              "      <td>13492.0</td>\n",
              "    </tr>\n",
              "    <tr>\n",
              "      <th>47932</th>\n",
              "      <td>Saudi Arabia</td>\n",
              "      <td>2021-01-09</td>\n",
              "      <td>13492.0</td>\n",
              "    </tr>\n",
              "    <tr>\n",
              "      <th>47933</th>\n",
              "      <td>Saudi Arabia</td>\n",
              "      <td>2021-01-10</td>\n",
              "      <td>14304.0</td>\n",
              "    </tr>\n",
              "    <tr>\n",
              "      <th>47934</th>\n",
              "      <td>Saudi Arabia</td>\n",
              "      <td>2021-01-11</td>\n",
              "      <td>14792.0</td>\n",
              "    </tr>\n",
              "    <tr>\n",
              "      <th>...</th>\n",
              "      <td>...</td>\n",
              "      <td>...</td>\n",
              "      <td>...</td>\n",
              "    </tr>\n",
              "    <tr>\n",
              "      <th>48254</th>\n",
              "      <td>Saudi Arabia</td>\n",
              "      <td>2021-11-27</td>\n",
              "      <td>40003.0</td>\n",
              "    </tr>\n",
              "    <tr>\n",
              "      <th>48255</th>\n",
              "      <td>Saudi Arabia</td>\n",
              "      <td>2021-11-28</td>\n",
              "      <td>35426.0</td>\n",
              "    </tr>\n",
              "    <tr>\n",
              "      <th>48256</th>\n",
              "      <td>Saudi Arabia</td>\n",
              "      <td>2021-11-29</td>\n",
              "      <td>39999.0</td>\n",
              "    </tr>\n",
              "    <tr>\n",
              "      <th>48257</th>\n",
              "      <td>Saudi Arabia</td>\n",
              "      <td>2021-11-30</td>\n",
              "      <td>41353.0</td>\n",
              "    </tr>\n",
              "    <tr>\n",
              "      <th>48258</th>\n",
              "      <td>Saudi Arabia</td>\n",
              "      <td>2021-12-01</td>\n",
              "      <td>35679.0</td>\n",
              "    </tr>\n",
              "  </tbody>\n",
              "</table>\n",
              "<p>329 rows × 3 columns</p>\n",
              "</div>"
            ],
            "text/plain": [
              "            country       date  daily_vaccinations\n",
              "47930  Saudi Arabia 2021-01-07             13492.0\n",
              "47931  Saudi Arabia 2021-01-08             13492.0\n",
              "47932  Saudi Arabia 2021-01-09             13492.0\n",
              "47933  Saudi Arabia 2021-01-10             14304.0\n",
              "47934  Saudi Arabia 2021-01-11             14792.0\n",
              "...             ...        ...                 ...\n",
              "48254  Saudi Arabia 2021-11-27             40003.0\n",
              "48255  Saudi Arabia 2021-11-28             35426.0\n",
              "48256  Saudi Arabia 2021-11-29             39999.0\n",
              "48257  Saudi Arabia 2021-11-30             41353.0\n",
              "48258  Saudi Arabia 2021-12-01             35679.0\n",
              "\n",
              "[329 rows x 3 columns]"
            ]
          },
          "metadata": {},
          "execution_count": 15
        }
      ],
      "source": [
        "#For simplicity I just take the target variables and the date\n",
        "dataset = data[['country','date','daily_vaccinations']]\n",
        "dataset = dataset.loc[dataset['country'] == \"Saudi Arabia\"]\n",
        "dataset.sort_values(by='date', inplace=True)\n",
        "dataset"
      ]
    },
    {
      "cell_type": "code",
      "source": [
        "import matplotlib.pyplot as plt\n",
        "import seaborn as sns\n",
        "sns.set()\n"
      ],
      "metadata": {
        "id": "w1mAQChtSbzV"
      },
      "id": "w1mAQChtSbzV",
      "execution_count": 16,
      "outputs": []
    },
    {
      "cell_type": "code",
      "source": [
        "dataset.drop('country', inplace=True, axis=1)"
      ],
      "metadata": {
        "id": "VZqjqrFNVvBB"
      },
      "id": "VZqjqrFNVvBB",
      "execution_count": 17,
      "outputs": []
    },
    {
      "cell_type": "code",
      "source": [
        "plt.ylabel('Daily Number of Vaccinations')\n",
        "plt.title (\"Number of Vaccinations Per months\")\n",
        "plt.xlabel('Date')\n",
        "plt.xticks(rotation=45)\n",
        "plt.plot(dataset.date, dataset['daily_vaccinations'], )"
      ],
      "metadata": {
        "colab": {
          "base_uri": "https://localhost:8080/",
          "height": 347
        },
        "id": "q221MEO8SqSZ",
        "outputId": "0b3dd230-5f21-4bd5-e42c-f88206b02283"
      },
      "id": "q221MEO8SqSZ",
      "execution_count": 18,
      "outputs": [
        {
          "output_type": "execute_result",
          "data": {
            "text/plain": [
              "[<matplotlib.lines.Line2D at 0x7f4d154941d0>]"
            ]
          },
          "metadata": {},
          "execution_count": 18
        },
        {
          "output_type": "display_data",
          "data": {
            "image/png": "[encoded data removed]",
            "text/plain": [
              "<Figure size 432x288 with 1 Axes>"
            ]
          },
          "metadata": {}
        }
      ]
    },
    {
      "cell_type": "code",
      "source": [
        "#dataset.date = pd.to_datetime(dataset.date)\n",
        "dataset.date = pd.to_datetime(dataset['date'], format='%Y-%m-%d')\n",
        "print(dataset.info())"
      ],
      "metadata": {
        "colab": {
          "base_uri": "https://localhost:8080/"
        },
        "id": "SeOwukJrXIOc",
        "outputId": "c955be56-b1fb-4bbb-8f0c-4d15aa53cc2a"
      },
      "id": "SeOwukJrXIOc",
      "execution_count": 19,
      "outputs": [
        {
          "output_type": "stream",
          "name": "stdout",
          "text": [
            "<class 'pandas.core.frame.DataFrame'>\n",
            "Int64Index: 329 entries, 47930 to 48258\n",
            "Data columns (total 2 columns):\n",
            " #   Column              Non-Null Count  Dtype         \n",
            "---  ------              --------------  -----         \n",
            " 0   date                329 non-null    datetime64[ns]\n",
            " 1   daily_vaccinations  329 non-null    float64       \n",
            "dtypes: datetime64[ns](1), float64(1)\n",
            "memory usage: 7.7 KB\n",
            "None\n"
          ]
        }
      ]
    },
    {
      "cell_type": "code",
      "source": [
        "train = dataset[dataset.date < pd.to_datetime(\"2021-09-25\", format='%Y-%m-%d')]\n",
        "test = dataset[dataset.date > pd.to_datetime(\"2021-09-24\", format='%Y-%m-%d')]\n",
        "train.plot(x='date')\n",
        "test.plot(x='date')\n",
        "plt.ylabel('Daily Number of Vaccinations')\n",
        "plt.xlabel('Date')\n",
        "plt.xticks(rotation=45)\n",
        "plt.title(\"Train/Test split\")\n",
        "plt.show()"
      ],
      "metadata": {
        "colab": {
          "base_uri": "https://localhost:8080/",
          "height": 621
        },
        "id": "4ju4jDWBTuus",
        "outputId": "c407e132-14b6-4120-d8a8-0703e300d588"
      },
      "id": "4ju4jDWBTuus",
      "execution_count": 20,
      "outputs": [
        {
          "output_type": "display_data",
          "data": {
            "image/png": "[encoded data removed]",
            "text/plain": [
              "<Figure size 432x288 with 1 Axes>"
            ]
          },
          "metadata": {}
        },
        {
          "output_type": "display_data",
          "data": {
            "image/png": "[encoded data removed]",
            "text/plain": [
              "<Figure size 432x288 with 1 Axes>"
            ]
          },
          "metadata": {}
        }
      ]
    },
    {
      "cell_type": "code",
      "source": [
        "train"
      ],
      "metadata": {
        "colab": {
          "base_uri": "https://localhost:8080/",
          "height": 424
        },
        "id": "8_S6d6LjNmy6",
        "outputId": "a8f648ba-7617-4a85-9b6e-187d5aa237e0"
      },
      "id": "8_S6d6LjNmy6",
      "execution_count": 21,
      "outputs": [
        {
          "output_type": "execute_result",
          "data": {
            "text/html": [
              "<div>\n",
              "<style scoped>\n",
              "    .dataframe tbody tr th:only-of-type {\n",
              "        vertical-align: middle;\n",
              "    }\n",
              "\n",
              "    .dataframe tbody tr th {\n",
              "        vertical-align: top;\n",
              "    }\n",
              "\n",
              "    .dataframe thead th {\n",
              "        text-align: right;\n",
              "    }\n",
              "</style>\n",
              "<table border=\"1\" class=\"dataframe\">\n",
              "  <thead>\n",
              "    <tr style=\"text-align: right;\">\n",
              "      <th></th>\n",
              "      <th>date</th>\n",
              "      <th>daily_vaccinations</th>\n",
              "    </tr>\n",
              "  </thead>\n",
              "  <tbody>\n",
              "    <tr>\n",
              "      <th>47930</th>\n",
              "      <td>2021-01-07</td>\n",
              "      <td>13492.0</td>\n",
              "    </tr>\n",
              "    <tr>\n",
              "      <th>47931</th>\n",
              "      <td>2021-01-08</td>\n",
              "      <td>13492.0</td>\n",
              "    </tr>\n",
              "    <tr>\n",
              "      <th>47932</th>\n",
              "      <td>2021-01-09</td>\n",
              "      <td>13492.0</td>\n",
              "    </tr>\n",
              "    <tr>\n",
              "      <th>47933</th>\n",
              "      <td>2021-01-10</td>\n",
              "      <td>14304.0</td>\n",
              "    </tr>\n",
              "    <tr>\n",
              "      <th>47934</th>\n",
              "      <td>2021-01-11</td>\n",
              "      <td>14792.0</td>\n",
              "    </tr>\n",
              "    <tr>\n",
              "      <th>...</th>\n",
              "      <td>...</td>\n",
              "      <td>...</td>\n",
              "    </tr>\n",
              "    <tr>\n",
              "      <th>48186</th>\n",
              "      <td>2021-09-20</td>\n",
              "      <td>170773.0</td>\n",
              "    </tr>\n",
              "    <tr>\n",
              "      <th>48187</th>\n",
              "      <td>2021-09-21</td>\n",
              "      <td>163035.0</td>\n",
              "    </tr>\n",
              "    <tr>\n",
              "      <th>48188</th>\n",
              "      <td>2021-09-22</td>\n",
              "      <td>152239.0</td>\n",
              "    </tr>\n",
              "    <tr>\n",
              "      <th>48189</th>\n",
              "      <td>2021-09-23</td>\n",
              "      <td>125662.0</td>\n",
              "    </tr>\n",
              "    <tr>\n",
              "      <th>48190</th>\n",
              "      <td>2021-09-24</td>\n",
              "      <td>118724.0</td>\n",
              "    </tr>\n",
              "  </tbody>\n",
              "</table>\n",
              "<p>261 rows × 2 columns</p>\n",
              "</div>"
            ],
            "text/plain": [
              "            date  daily_vaccinations\n",
              "47930 2021-01-07             13492.0\n",
              "47931 2021-01-08             13492.0\n",
              "47932 2021-01-09             13492.0\n",
              "47933 2021-01-10             14304.0\n",
              "47934 2021-01-11             14792.0\n",
              "...          ...                 ...\n",
              "48186 2021-09-20            170773.0\n",
              "48187 2021-09-21            163035.0\n",
              "48188 2021-09-22            152239.0\n",
              "48189 2021-09-23            125662.0\n",
              "48190 2021-09-24            118724.0\n",
              "\n",
              "[261 rows x 2 columns]"
            ]
          },
          "metadata": {},
          "execution_count": 21
        }
      ]
    },
    {
      "cell_type": "code",
      "execution_count": 22,
      "id": "4b7f1e6d",
      "metadata": {
        "id": "4b7f1e6d"
      },
      "outputs": [],
      "source": [
        "#Our task is to forecast monthly daily_vaccinations. We need to aggregate our data at the monthly level and sum up the daily_vaccinations column."
      ]
    },
    {
      "cell_type": "code",
      "source": [
        "dataset.set_index('date',inplace=True)"
      ],
      "metadata": {
        "id": "m4sKJXGkjGiH"
      },
      "id": "m4sKJXGkjGiH",
      "execution_count": 23,
      "outputs": []
    },
    {
      "cell_type": "code",
      "source": [
        "### Testing For Stationarity\n",
        "\n",
        "from statsmodels.tsa.stattools import adfuller"
      ],
      "metadata": {
        "colab": {
          "base_uri": "https://localhost:8080/"
        },
        "id": "p3d67tPojpXe",
        "outputId": "8b25f74d-d18e-46ee-a650-697ca3de94a2"
      },
      "id": "p3d67tPojpXe",
      "execution_count": 24,
      "outputs": [
        {
          "output_type": "stream",
          "name": "stderr",
          "text": [
            "/usr/local/lib/python3.7/dist-packages/statsmodels/tools/_testing.py:19: FutureWarning: pandas.util.testing is deprecated. Use the functions in the public API at pandas.testing instead.\n",
            "  import pandas.util.testing as tm\n"
          ]
        }
      ]
    },
    {
      "cell_type": "code",
      "source": [
        "test_result=adfuller(dataset['daily_vaccinations'])\n",
        "test_result"
      ],
      "metadata": {
        "colab": {
          "base_uri": "https://localhost:8080/"
        },
        "id": "AT3oBzLEjruL",
        "outputId": "f067f7bd-07c4-4870-e4a4-1112dd2ded08"
      },
      "id": "AT3oBzLEjruL",
      "execution_count": 25,
      "outputs": [
        {
          "output_type": "execute_result",
          "data": {
            "text/plain": [
              "(-1.8002846540757396,\n",
              " 0.3803203799194067,\n",
              " 16,\n",
              " 312,\n",
              " {'1%': -3.4514843502727306,\n",
              "  '10%': -2.571729625657462,\n",
              "  '5%': -2.8708485956333556},\n",
              " 6447.204060030457)"
            ]
          },
          "metadata": {},
          "execution_count": 25
        }
      ]
    },
    {
      "cell_type": "code",
      "source": [
        "#Ho: It is non stationary\n",
        "#H1: It is stationary\n",
        "\n",
        "def adfuller_test(daily_vaccinations):\n",
        "    result=adfuller(daily_vaccinations)\n",
        "    labels = ['ADF Test Statistic','p-value','#Lags Used','Number of Observations Used']\n",
        "    for value,label in zip(result,labels):\n",
        "        print(label+' : '+str(value) )\n",
        "    if result[1] <= 0.05:\n",
        "        print(\"strong evidence against the null hypothesis(Ho), reject the null hypothesis. Data has no unit root and is stationary\")\n",
        "    else:\n",
        "        print(\"weak evidence against null hypothesis, time series has a unit root, indicating it is non-stationary \")\n",
        "    "
      ],
      "metadata": {
        "id": "AJXLLimWj5jb"
      },
      "id": "AJXLLimWj5jb",
      "execution_count": 26,
      "outputs": []
    },
    {
      "cell_type": "code",
      "source": [
        "adfuller_test(dataset['daily_vaccinations'])"
      ],
      "metadata": {
        "colab": {
          "base_uri": "https://localhost:8080/"
        },
        "id": "_MG1VDKlj_QW",
        "outputId": "86ab882c-91c8-4cbe-c26d-633f28eaa774"
      },
      "id": "_MG1VDKlj_QW",
      "execution_count": 27,
      "outputs": [
        {
          "output_type": "stream",
          "name": "stdout",
          "text": [
            "ADF Test Statistic : -1.8002846540757396\n",
            "p-value : 0.3803203799194067\n",
            "#Lags Used : 16\n",
            "Number of Observations Used : 312\n",
            "weak evidence against null hypothesis, time series has a unit root, indicating it is non-stationary \n"
          ]
        }
      ]
    }
  ],
  "metadata": {
    "colab": {
      "collapsed_sections": [],
      "name": "COVID_19VaccinationProgress2.ipynb",
      "provenance": []
    },
    "kernelspec": {
      "display_name": "Python 3 (ipykernel)",
      "language": "python",
      "name": "python3"
    },
    "language_info": {
      "codemirror_mode": {
        "name": "ipython",
        "version": 3
      },
      "file_extension": ".py",
      "mimetype": "text/x-python",
      "name": "python",
      "nbconvert_exporter": "python",
      "pygments_lexer": "ipython3",
      "version": "3.9.7"
    }
  },
  "nbformat": 4,
  "nbformat_minor": 5
}