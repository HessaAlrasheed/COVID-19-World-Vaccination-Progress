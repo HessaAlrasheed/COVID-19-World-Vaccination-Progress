{
 "cells": [
  {
   "cell_type": "code",
   "execution_count": 1,
   "id": "72b0d093",
   "metadata": {
    "id": "72b0d093"
   },
   "outputs": [],
   "source": [
    "#Useful Imports\n",
    "import numpy as np\n",
    "import pandas as pd\n",
    "import seaborn as sns\n",
    "import matplotlib.pyplot as plt\n",
    "from sklearn.linear_model import LinearRegression"
   ]
  },
  {
   "cell_type": "code",
   "execution_count": 2,
   "id": "cd75f2c8",
   "metadata": {
    "id": "cd75f2c8"
   },
   "outputs": [],
   "source": [
    "#Reading data from csv file\n",
    "data = pd.read_csv('/Users/HessaAlrasheed/Desktop/country_vaccinations.csv')"
   ]
  },
  {
   "cell_type": "code",
   "execution_count": 3,
   "id": "52b246b6",
   "metadata": {
    "id": "52b246b6",
    "outputId": "1e153fac-97b4-4298-a3b8-cefff5cbe262"
   },
   "outputs": [
    {
     "data": {
      "text/html": [
       "<div>\n",
       "<style scoped>\n",
       "    .dataframe tbody tr th:only-of-type {\n",
       "        vertical-align: middle;\n",
       "    }\n",
       "\n",
       "    .dataframe tbody tr th {\n",
       "        vertical-align: top;\n",
       "    }\n",
       "\n",
       "    .dataframe thead th {\n",
       "        text-align: right;\n",
       "    }\n",
       "</style>\n",
       "<table border=\"1\" class=\"dataframe\">\n",
       "  <thead>\n",
       "    <tr style=\"text-align: right;\">\n",
       "      <th></th>\n",
       "      <th>country</th>\n",
       "      <th>iso_code</th>\n",
       "      <th>date</th>\n",
       "      <th>total_vaccinations</th>\n",
       "      <th>people_vaccinated</th>\n",
       "      <th>people_fully_vaccinated</th>\n",
       "      <th>daily_vaccinations_raw</th>\n",
       "      <th>daily_vaccinations</th>\n",
       "      <th>total_vaccinations_per_hundred</th>\n",
       "      <th>people_vaccinated_per_hundred</th>\n",
       "      <th>people_fully_vaccinated_per_hundred</th>\n",
       "      <th>daily_vaccinations_per_million</th>\n",
       "      <th>vaccines</th>\n",
       "      <th>source_name</th>\n",
       "      <th>source_website</th>\n",
       "    </tr>\n",
       "  </thead>\n",
       "  <tbody>\n",
       "    <tr>\n",
       "      <th>0</th>\n",
       "      <td>Afghanistan</td>\n",
       "      <td>AFG</td>\n",
       "      <td>2021-02-22</td>\n",
       "      <td>0.0</td>\n",
       "      <td>0.0</td>\n",
       "      <td>NaN</td>\n",
       "      <td>NaN</td>\n",
       "      <td>NaN</td>\n",
       "      <td>0.0</td>\n",
       "      <td>0.0</td>\n",
       "      <td>NaN</td>\n",
       "      <td>NaN</td>\n",
       "      <td>Johnson&amp;Johnson, Oxford/AstraZeneca, Pfizer/Bi...</td>\n",
       "      <td>World Health Organization</td>\n",
       "      <td>https://reliefweb.int/sites/reliefweb.int/file...</td>\n",
       "    </tr>\n",
       "    <tr>\n",
       "      <th>1</th>\n",
       "      <td>Afghanistan</td>\n",
       "      <td>AFG</td>\n",
       "      <td>2021-02-23</td>\n",
       "      <td>NaN</td>\n",
       "      <td>NaN</td>\n",
       "      <td>NaN</td>\n",
       "      <td>NaN</td>\n",
       "      <td>1367.0</td>\n",
       "      <td>NaN</td>\n",
       "      <td>NaN</td>\n",
       "      <td>NaN</td>\n",
       "      <td>34.0</td>\n",
       "      <td>Johnson&amp;Johnson, Oxford/AstraZeneca, Pfizer/Bi...</td>\n",
       "      <td>World Health Organization</td>\n",
       "      <td>https://reliefweb.int/sites/reliefweb.int/file...</td>\n",
       "    </tr>\n",
       "    <tr>\n",
       "      <th>2</th>\n",
       "      <td>Afghanistan</td>\n",
       "      <td>AFG</td>\n",
       "      <td>2021-02-24</td>\n",
       "      <td>NaN</td>\n",
       "      <td>NaN</td>\n",
       "      <td>NaN</td>\n",
       "      <td>NaN</td>\n",
       "      <td>1367.0</td>\n",
       "      <td>NaN</td>\n",
       "      <td>NaN</td>\n",
       "      <td>NaN</td>\n",
       "      <td>34.0</td>\n",
       "      <td>Johnson&amp;Johnson, Oxford/AstraZeneca, Pfizer/Bi...</td>\n",
       "      <td>World Health Organization</td>\n",
       "      <td>https://reliefweb.int/sites/reliefweb.int/file...</td>\n",
       "    </tr>\n",
       "    <tr>\n",
       "      <th>3</th>\n",
       "      <td>Afghanistan</td>\n",
       "      <td>AFG</td>\n",
       "      <td>2021-02-25</td>\n",
       "      <td>NaN</td>\n",
       "      <td>NaN</td>\n",
       "      <td>NaN</td>\n",
       "      <td>NaN</td>\n",
       "      <td>1367.0</td>\n",
       "      <td>NaN</td>\n",
       "      <td>NaN</td>\n",
       "      <td>NaN</td>\n",
       "      <td>34.0</td>\n",
       "      <td>Johnson&amp;Johnson, Oxford/AstraZeneca, Pfizer/Bi...</td>\n",
       "      <td>World Health Organization</td>\n",
       "      <td>https://reliefweb.int/sites/reliefweb.int/file...</td>\n",
       "    </tr>\n",
       "    <tr>\n",
       "      <th>4</th>\n",
       "      <td>Afghanistan</td>\n",
       "      <td>AFG</td>\n",
       "      <td>2021-02-26</td>\n",
       "      <td>NaN</td>\n",
       "      <td>NaN</td>\n",
       "      <td>NaN</td>\n",
       "      <td>NaN</td>\n",
       "      <td>1367.0</td>\n",
       "      <td>NaN</td>\n",
       "      <td>NaN</td>\n",
       "      <td>NaN</td>\n",
       "      <td>34.0</td>\n",
       "      <td>Johnson&amp;Johnson, Oxford/AstraZeneca, Pfizer/Bi...</td>\n",
       "      <td>World Health Organization</td>\n",
       "      <td>https://reliefweb.int/sites/reliefweb.int/file...</td>\n",
       "    </tr>\n",
       "  </tbody>\n",
       "</table>\n",
       "</div>"
      ],
      "text/plain": [
       "       country iso_code        date  total_vaccinations  people_vaccinated  \\\n",
       "0  Afghanistan      AFG  2021-02-22                 0.0                0.0   \n",
       "1  Afghanistan      AFG  2021-02-23                 NaN                NaN   \n",
       "2  Afghanistan      AFG  2021-02-24                 NaN                NaN   \n",
       "3  Afghanistan      AFG  2021-02-25                 NaN                NaN   \n",
       "4  Afghanistan      AFG  2021-02-26                 NaN                NaN   \n",
       "\n",
       "   people_fully_vaccinated  daily_vaccinations_raw  daily_vaccinations  \\\n",
       "0                      NaN                     NaN                 NaN   \n",
       "1                      NaN                     NaN              1367.0   \n",
       "2                      NaN                     NaN              1367.0   \n",
       "3                      NaN                     NaN              1367.0   \n",
       "4                      NaN                     NaN              1367.0   \n",
       "\n",
       "   total_vaccinations_per_hundred  people_vaccinated_per_hundred  \\\n",
       "0                             0.0                            0.0   \n",
       "1                             NaN                            NaN   \n",
       "2                             NaN                            NaN   \n",
       "3                             NaN                            NaN   \n",
       "4                             NaN                            NaN   \n",
       "\n",
       "   people_fully_vaccinated_per_hundred  daily_vaccinations_per_million  \\\n",
       "0                                  NaN                             NaN   \n",
       "1                                  NaN                            34.0   \n",
       "2                                  NaN                            34.0   \n",
       "3                                  NaN                            34.0   \n",
       "4                                  NaN                            34.0   \n",
       "\n",
       "                                            vaccines  \\\n",
       "0  Johnson&Johnson, Oxford/AstraZeneca, Pfizer/Bi...   \n",
       "1  Johnson&Johnson, Oxford/AstraZeneca, Pfizer/Bi...   \n",
       "2  Johnson&Johnson, Oxford/AstraZeneca, Pfizer/Bi...   \n",
       "3  Johnson&Johnson, Oxford/AstraZeneca, Pfizer/Bi...   \n",
       "4  Johnson&Johnson, Oxford/AstraZeneca, Pfizer/Bi...   \n",
       "\n",
       "                 source_name  \\\n",
       "0  World Health Organization   \n",
       "1  World Health Organization   \n",
       "2  World Health Organization   \n",
       "3  World Health Organization   \n",
       "4  World Health Organization   \n",
       "\n",
       "                                      source_website  \n",
       "0  https://reliefweb.int/sites/reliefweb.int/file...  \n",
       "1  https://reliefweb.int/sites/reliefweb.int/file...  \n",
       "2  https://reliefweb.int/sites/reliefweb.int/file...  \n",
       "3  https://reliefweb.int/sites/reliefweb.int/file...  \n",
       "4  https://reliefweb.int/sites/reliefweb.int/file...  "
      ]
     },
     "execution_count": 3,
     "metadata": {},
     "output_type": "execute_result"
    }
   ],
   "source": [
    "data.head()"
   ]
  },
  {
   "cell_type": "code",
   "execution_count": 4,
   "id": "35e9cfb6",
   "metadata": {
    "id": "35e9cfb6",
    "outputId": "b825972b-8a8a-46ed-b192-21be1168d56f"
   },
   "outputs": [
    {
     "data": {
      "text/plain": [
       "(61612, 15)"
      ]
     },
     "execution_count": 4,
     "metadata": {},
     "output_type": "execute_result"
    }
   ],
   "source": [
    "#Find the shape of data\n",
    "data.shape"
   ]
  },
  {
   "cell_type": "markdown",
   "id": "4aa78863",
   "metadata": {
    "id": "Ftj03xvRu8q5"
   },
   "source": [
    "Data Preprocessing"
   ]
  },
  {
   "cell_type": "code",
   "execution_count": 5,
   "id": "e499ea7e",
   "metadata": {
    "id": "e499ea7e"
   },
   "outputs": [],
   "source": [
    "#Delete unnecessary columns\n",
    "data.drop(['source_name', 'source_website','vaccines'], axis='columns', inplace=True)"
   ]
  },
  {
   "cell_type": "code",
   "execution_count": 6,
   "id": "2bed4273",
   "metadata": {
    "id": "2bed4273",
    "outputId": "6c102d92-b3ae-44b7-a0fc-de0c63c2dff0"
   },
   "outputs": [
    {
     "data": {
      "text/plain": [
       "country                                    0\n",
       "iso_code                                   0\n",
       "date                                       0\n",
       "total_vaccinations                     28488\n",
       "people_vaccinated                      30080\n",
       "people_fully_vaccinated                32889\n",
       "daily_vaccinations_raw                 34462\n",
       "daily_vaccinations                       340\n",
       "total_vaccinations_per_hundred         28488\n",
       "people_vaccinated_per_hundred          30080\n",
       "people_fully_vaccinated_per_hundred    32889\n",
       "daily_vaccinations_per_million           340\n",
       "vaccines                                   0\n",
       "dtype: int64"
      ]
     },
     "execution_count": 6,
     "metadata": {},
     "output_type": "execute_result"
    }
   ],
   "source": [
    "#Check if there are miss values in the data\n",
    "data.isna().sum()"
   ]
  },
  {
   "cell_type": "code",
   "execution_count": 7,
   "id": "a7cf109c",
   "metadata": {
    "id": "a7cf109c",
    "outputId": "cbff2723-f17f-4700-f830-3bcf08366df4"
   },
   "outputs": [
    {
     "data": {
      "text/plain": [
       "country                                 object\n",
       "iso_code                                object\n",
       "date                                    object\n",
       "total_vaccinations                     float64\n",
       "people_vaccinated                      float64\n",
       "people_fully_vaccinated                float64\n",
       "daily_vaccinations_raw                 float64\n",
       "daily_vaccinations                     float64\n",
       "total_vaccinations_per_hundred         float64\n",
       "people_vaccinated_per_hundred          float64\n",
       "people_fully_vaccinated_per_hundred    float64\n",
       "daily_vaccinations_per_million         float64\n",
       "vaccines                                object\n",
       "dtype: object"
      ]
     },
     "execution_count": 7,
     "metadata": {},
     "output_type": "execute_result"
    }
   ],
   "source": [
    "data.dtypes"
   ]
  },
  {
   "cell_type": "code",
   "execution_count": 8,
   "id": "1c5b1dcc",
   "metadata": {
    "id": "1c5b1dcc"
   },
   "outputs": [],
   "source": [
    "#Delete null value in people_vaccinated & total_vaccinations columns\n",
    "data = data.drop(data[data.people_vaccinated.isna()].index)\n",
    "data = data.drop(data[data.total_vaccinations.isna()].index)"
   ]
  },
  {
   "cell_type": "code",
   "execution_count": 9,
   "id": "11717882",
   "metadata": {
    "id": "11717882",
    "outputId": "54bcc6d7-90dd-4b1d-c845-e012cdc581e5"
   },
   "outputs": [
    {
     "data": {
      "text/html": [
       "<div>\n",
       "<style scoped>\n",
       "    .dataframe tbody tr th:only-of-type {\n",
       "        vertical-align: middle;\n",
       "    }\n",
       "\n",
       "    .dataframe tbody tr th {\n",
       "        vertical-align: top;\n",
       "    }\n",
       "\n",
       "    .dataframe thead th {\n",
       "        text-align: right;\n",
       "    }\n",
       "</style>\n",
       "<table border=\"1\" class=\"dataframe\">\n",
       "  <thead>\n",
       "    <tr style=\"text-align: right;\">\n",
       "      <th></th>\n",
       "      <th>country</th>\n",
       "      <th>iso_code</th>\n",
       "      <th>date</th>\n",
       "      <th>total_vaccinations</th>\n",
       "      <th>people_vaccinated</th>\n",
       "      <th>people_fully_vaccinated</th>\n",
       "      <th>daily_vaccinations_raw</th>\n",
       "      <th>daily_vaccinations</th>\n",
       "      <th>total_vaccinations_per_hundred</th>\n",
       "      <th>people_vaccinated_per_hundred</th>\n",
       "      <th>people_fully_vaccinated_per_hundred</th>\n",
       "      <th>daily_vaccinations_per_million</th>\n",
       "      <th>vaccines</th>\n",
       "    </tr>\n",
       "  </thead>\n",
       "  <tbody>\n",
       "    <tr>\n",
       "      <th>0</th>\n",
       "      <td>Afghanistan</td>\n",
       "      <td>AFG</td>\n",
       "      <td>2021-02-22</td>\n",
       "      <td>0.0</td>\n",
       "      <td>0.0</td>\n",
       "      <td>NaN</td>\n",
       "      <td>NaN</td>\n",
       "      <td>NaN</td>\n",
       "      <td>0.00</td>\n",
       "      <td>0.00</td>\n",
       "      <td>NaN</td>\n",
       "      <td>NaN</td>\n",
       "      <td>Johnson&amp;Johnson, Oxford/AstraZeneca, Pfizer/Bi...</td>\n",
       "    </tr>\n",
       "    <tr>\n",
       "      <th>6</th>\n",
       "      <td>Afghanistan</td>\n",
       "      <td>AFG</td>\n",
       "      <td>2021-02-28</td>\n",
       "      <td>8200.0</td>\n",
       "      <td>8200.0</td>\n",
       "      <td>NaN</td>\n",
       "      <td>NaN</td>\n",
       "      <td>1367.0</td>\n",
       "      <td>0.02</td>\n",
       "      <td>0.02</td>\n",
       "      <td>NaN</td>\n",
       "      <td>34.0</td>\n",
       "      <td>Johnson&amp;Johnson, Oxford/AstraZeneca, Pfizer/Bi...</td>\n",
       "    </tr>\n",
       "    <tr>\n",
       "      <th>22</th>\n",
       "      <td>Afghanistan</td>\n",
       "      <td>AFG</td>\n",
       "      <td>2021-03-16</td>\n",
       "      <td>54000.0</td>\n",
       "      <td>54000.0</td>\n",
       "      <td>NaN</td>\n",
       "      <td>NaN</td>\n",
       "      <td>2862.0</td>\n",
       "      <td>0.14</td>\n",
       "      <td>0.14</td>\n",
       "      <td>NaN</td>\n",
       "      <td>72.0</td>\n",
       "      <td>Johnson&amp;Johnson, Oxford/AstraZeneca, Pfizer/Bi...</td>\n",
       "    </tr>\n",
       "    <tr>\n",
       "      <th>44</th>\n",
       "      <td>Afghanistan</td>\n",
       "      <td>AFG</td>\n",
       "      <td>2021-04-07</td>\n",
       "      <td>120000.0</td>\n",
       "      <td>120000.0</td>\n",
       "      <td>NaN</td>\n",
       "      <td>NaN</td>\n",
       "      <td>3000.0</td>\n",
       "      <td>0.30</td>\n",
       "      <td>0.30</td>\n",
       "      <td>NaN</td>\n",
       "      <td>75.0</td>\n",
       "      <td>Johnson&amp;Johnson, Oxford/AstraZeneca, Pfizer/Bi...</td>\n",
       "    </tr>\n",
       "    <tr>\n",
       "      <th>59</th>\n",
       "      <td>Afghanistan</td>\n",
       "      <td>AFG</td>\n",
       "      <td>2021-04-22</td>\n",
       "      <td>240000.0</td>\n",
       "      <td>240000.0</td>\n",
       "      <td>NaN</td>\n",
       "      <td>NaN</td>\n",
       "      <td>8000.0</td>\n",
       "      <td>0.60</td>\n",
       "      <td>0.60</td>\n",
       "      <td>NaN</td>\n",
       "      <td>201.0</td>\n",
       "      <td>Johnson&amp;Johnson, Oxford/AstraZeneca, Pfizer/Bi...</td>\n",
       "    </tr>\n",
       "  </tbody>\n",
       "</table>\n",
       "</div>"
      ],
      "text/plain": [
       "        country iso_code        date  total_vaccinations  people_vaccinated  \\\n",
       "0   Afghanistan      AFG  2021-02-22                 0.0                0.0   \n",
       "6   Afghanistan      AFG  2021-02-28              8200.0             8200.0   \n",
       "22  Afghanistan      AFG  2021-03-16             54000.0            54000.0   \n",
       "44  Afghanistan      AFG  2021-04-07            120000.0           120000.0   \n",
       "59  Afghanistan      AFG  2021-04-22            240000.0           240000.0   \n",
       "\n",
       "    people_fully_vaccinated  daily_vaccinations_raw  daily_vaccinations  \\\n",
       "0                       NaN                     NaN                 NaN   \n",
       "6                       NaN                     NaN              1367.0   \n",
       "22                      NaN                     NaN              2862.0   \n",
       "44                      NaN                     NaN              3000.0   \n",
       "59                      NaN                     NaN              8000.0   \n",
       "\n",
       "    total_vaccinations_per_hundred  people_vaccinated_per_hundred  \\\n",
       "0                             0.00                           0.00   \n",
       "6                             0.02                           0.02   \n",
       "22                            0.14                           0.14   \n",
       "44                            0.30                           0.30   \n",
       "59                            0.60                           0.60   \n",
       "\n",
       "    people_fully_vaccinated_per_hundred  daily_vaccinations_per_million  \\\n",
       "0                                   NaN                             NaN   \n",
       "6                                   NaN                            34.0   \n",
       "22                                  NaN                            72.0   \n",
       "44                                  NaN                            75.0   \n",
       "59                                  NaN                           201.0   \n",
       "\n",
       "                                             vaccines  \n",
       "0   Johnson&Johnson, Oxford/AstraZeneca, Pfizer/Bi...  \n",
       "6   Johnson&Johnson, Oxford/AstraZeneca, Pfizer/Bi...  \n",
       "22  Johnson&Johnson, Oxford/AstraZeneca, Pfizer/Bi...  \n",
       "44  Johnson&Johnson, Oxford/AstraZeneca, Pfizer/Bi...  \n",
       "59  Johnson&Johnson, Oxford/AstraZeneca, Pfizer/Bi...  "
      ]
     },
     "execution_count": 9,
     "metadata": {},
     "output_type": "execute_result"
    }
   ],
   "source": [
    "data.head ()"
   ]
  },
  {
   "cell_type": "code",
   "execution_count": 10,
   "id": "a8004385",
   "metadata": {
    "id": "a8004385"
   },
   "outputs": [],
   "source": [
    "#Conver date column datatype to date\n",
    "data['date'] = pd.to_datetime(data['date'], format='%Y/%m/%d')"
   ]
  },
  {
   "cell_type": "code",
   "execution_count": 11,
   "id": "fa8c25c5",
   "metadata": {
    "id": "fa8c25c5"
   },
   "outputs": [],
   "source": [
    "#Find total vaccinations for each country\n",
    "data[\"Total vaccinations in count\"]= data.groupby(\"country\").total_vaccinations.tail(1)"
   ]
  },
  {
   "cell_type": "code",
   "execution_count": 12,
   "id": "2633b013",
   "metadata": {
    "id": "2633b013",
    "outputId": "7fe96e27-b85a-4787-8663-a9412ffc4309"
   },
   "outputs": [
    {
     "data": {
      "text/plain": [
       "country\n",
       "Afghanistan           5116767.0\n",
       "Albania               2111797.0\n",
       "Algeria              12076870.0\n",
       "Andorra                104534.0\n",
       "Angola                9847459.0\n",
       "                        ...    \n",
       "Wales                 5653821.0\n",
       "Wallis and Futuna       11939.0\n",
       "Yemen                  774953.0\n",
       "Zambia                 985443.0\n",
       "Zimbabwe              6640440.0\n",
       "Name: Total vaccinations in count, Length: 223, dtype: float64"
      ]
     },
     "execution_count": 12,
     "metadata": {},
     "output_type": "execute_result"
    }
   ],
   "source": [
    "#Find the average of vaccinations for each country \n",
    "data.groupby(\"country\")[\"Total vaccinations in count\"].mean()"
   ]
  },
  {
   "cell_type": "code",
   "execution_count": 16,
   "id": "3c3c0d4a",
   "metadata": {
    "id": "3c3c0d4a",
    "outputId": "68e52342-aa46-4560-cb80-fcb03134ef7e"
   },
   "outputs": [
    {
     "data": {
      "image/png": "[encoded data removed]",
      "text/plain": [
       "<Figure size 720x720 with 1 Axes>"
      ]
     },
     "metadata": {},
     "output_type": "display_data"
    }
   ],
   "source": [
    "#Find top countries with got vaccinations\n",
    "x= data.groupby(\"country\")[\"Total vaccinations in count\"].mean().sort_values(ascending= False).head(10)\n",
    "sns.set_style(\"whitegrid\")\n",
    "plt.figure(figsize= (10,10))\n",
    "ax=sns.barplot(x=x.values, y=x.index)\n",
    "ax.set_xlabel(\"Total vaccinations(count)\")\n",
    "ax.set_ylabel(\"Country\")\n",
    "plt.show()"
   ]
  },
  {
   "cell_type": "code",
   "execution_count": 17,
   "id": "947b1658",
   "metadata": {
    "id": "947b1658",
    "outputId": "35904005-0059-4ee6-80f0-3ec8782c6da3"
   },
   "outputs": [
    {
     "data": {
      "image/png": "[encoded data removed]",
      "text/plain": [
       "<Figure size 1080x360 with 1 Axes>"
      ]
     },
     "metadata": {},
     "output_type": "display_data"
    }
   ],
   "source": [
    "#Total vaccinations in Saudi\n",
    "plt.figure(figsize= (15,5))\n",
    "plt.xlabel(\"Date\")\n",
    "plt.ylabel(\"Total Vaccinations\")\n",
    "plt.title(\"Total vaccinations in Saudi Arabia\")\n",
    "sns.lineplot(x= \"date\",y= \"people_vaccinated\",data= data[data[\"country\"]==\"Saudi Arabia\"])\n",
    "plt.show()"
   ]
  },
  {
   "cell_type": "code",
   "execution_count": null,
   "id": "a8d00459",
   "metadata": {
    "id": "3a375e14",
    "outputId": "f26a1649-4068-4947-c2f4-7c62e7a2eca5"
   },
   "outputs": [],
   "source": [
    "#People vaccinated vs people fully vaccinated in Saudi Arabia\n",
    "plt.figure(figsize= (15,5))\n",
    "plt.xlabel(\"Date\")\n",
    "plt.ylabel(\"Total Vaccinations\")\n",
    "plt.title(\"People vaccinated vs people fully vaccinated in Saudi Arabia\")\n",
    "sns.lineplot(x= \"date\",y= \"people_vaccinated\",data= data[data[\"country\"]==\"Saudi Arabia\"])\n",
    "sns.lineplot(x= \"date\",y= \"people_fully_vaccinated\",data= data[data[\"country\"]==\"Saudi Arabia\"])\n",
    "plt.show()"
   ]
  },
  {
   "cell_type": "code",
   "execution_count": 86,
   "id": "687759aa",
   "metadata": {},
   "outputs": [],
   "source": [
    "#Creating basic model for Saudi Arbia country\n",
    "new_dataset = data[['total_vaccinations','country']]\n",
    "new_dataset = new_dataset.loc[new_dataset['country'] == \"Saudi Arabia\"]\n",
    "new_dataset['date_diff']=new_dataset['total_vaccinations']\n",
    "count=0\n",
    "for index, row in data.iterrows():\n",
    "    row['date_diff']=count\n",
    "    count+=1"
   ]
  },
  {
   "cell_type": "code",
   "execution_count": 87,
   "id": "6f9868cc",
   "metadata": {},
   "outputs": [],
   "source": [
    "#creating model\n",
    "model=LinearRegression()"
   ]
  },
  {
   "cell_type": "code",
   "execution_count": 89,
   "id": "72dd5d4c",
   "metadata": {},
   "outputs": [
    {
     "data": {
      "text/plain": [
       "LinearRegression()"
      ]
     },
     "execution_count": 89,
     "metadata": {},
     "output_type": "execute_result"
    }
   ],
   "source": [
    "#Create our x and Y variable\n",
    "x=new_dataset[['date_diff']]\n",
    "y=new_dataset['total_vaccinations']\n",
    "model.fit(x,y)"
   ]
  },
  {
   "cell_type": "code",
   "execution_count": 90,
   "id": "1c02af6a",
   "metadata": {},
   "outputs": [
    {
     "name": "stdout",
     "output_type": "stream",
     "text": [
      "[1.]\n",
      "-1.4901161193847656e-08\n"
     ]
    }
   ],
   "source": [
    "print(model.coef_)\n",
    "print(model.intercept_)"
   ]
  },
  {
   "cell_type": "code",
   "execution_count": 91,
   "id": "5f3819ae",
   "metadata": {},
   "outputs": [],
   "source": [
    "#lets predict after 1 year how many vaccines will be made i.e 365 days so our x value will be 365\n",
    "pr=model.predict(x)"
   ]
  },
  {
   "cell_type": "code",
   "execution_count": 94,
   "id": "b666d3d8",
   "metadata": {},
   "outputs": [
    {
     "data": {
      "text/plain": [
       "[<matplotlib.lines.Line2D at 0x7f9992333820>]"
      ]
     },
     "execution_count": 94,
     "metadata": {},
     "output_type": "execute_result"
    },
    {
     "data": {
      "image/png": "[encoded data removed]",
      "text/plain": [
       "<Figure size 1080x360 with 1 Axes>"
      ]
     },
     "metadata": {},
     "output_type": "display_data"
    }
   ],
   "source": [
    "#lets visualize our total vaccination by day\n",
    "fig,ax=plt.subplots(figsize=(15,5))\n",
    "plt.title('Best Fit Line')\n",
    "plt.scatter(x=new_dataset['date_diff'],y=new_dataset['total_vaccinations'])\n",
    "plt.plot(x,pr)"
   ]
  },
  {
   "cell_type": "code",
   "execution_count": null,
   "id": "2ab6295c",
   "metadata": {},
   "outputs": [],
   "source": []
  }
 ],
 "metadata": {
  "colab": {
   "collapsed_sections": [],
   "name": "COVID-19VaccinationProgress.ipynb",
   "provenance": []
  },
  "kernelspec": {
   "display_name": "Python 3 (ipykernel)",
   "language": "python",
   "name": "python3"
  },
  "language_info": {
   "codemirror_mode": {
    "name": "ipython",
    "version": 3
   },
   "file_extension": ".py",
   "mimetype": "text/x-python",
   "name": "python",
   "nbconvert_exporter": "python",
   "pygments_lexer": "ipython3",
   "version": "3.9.7"
  }
 },
 "nbformat": 4,
 "nbformat_minor": 5
}
